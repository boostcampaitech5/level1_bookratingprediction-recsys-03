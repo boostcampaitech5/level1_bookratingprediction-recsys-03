{
 "cells": [
  {
   "attachments": {},
   "cell_type": "markdown",
   "metadata": {},
   "source": [
    "### 새로운 유저나 책이 들어오는 경우가 있는 지 확인하기 위함.\n",
    "유저에게 아무정보도 없는 경우에는 책의 평균 평점을 주는 것 시도!"
   ]
  },
  {
   "cell_type": "code",
   "execution_count": 2,
   "metadata": {},
   "outputs": [],
   "source": [
    "#사용하려는 데이터 보기\n",
    "import pandas as pd\n",
    "import numpy as np\n",
    "\n",
    "#pandas로 읽어옴\n",
    "users = pd.read_csv('../data/users.csv')\n",
    "books = pd.read_csv('../data/books.csv')\n",
    "train_ratings = pd.read_csv('../data/train_ratings.csv')\n",
    "test_ratings = pd.read_csv('../data/test_ratings.csv')"
   ]
  },
  {
   "cell_type": "code",
   "execution_count": 3,
   "metadata": {},
   "outputs": [
    {
     "data": {
      "text/plain": [
       "user_id     68092\n",
       "location    18368\n",
       "age            91\n",
       "dtype: int64"
      ]
     },
     "execution_count": 3,
     "metadata": {},
     "output_type": "execute_result"
    }
   ],
   "source": [
    "users.nunique()"
   ]
  },
  {
   "cell_type": "code",
   "execution_count": 14,
   "metadata": {},
   "outputs": [
    {
     "data": {
      "text/plain": [
       "user_id     0.000000\n",
       "location    0.000000\n",
       "age         0.408756\n",
       "dtype: float64"
      ]
     },
     "execution_count": 14,
     "metadata": {},
     "output_type": "execute_result"
    }
   ],
   "source": [
    "users.isna().sum()/len(users)"
   ]
  },
  {
   "cell_type": "code",
   "execution_count": 4,
   "metadata": {},
   "outputs": [
    {
     "data": {
      "text/plain": [
       "user_id     59803\n",
       "isbn       129777\n",
       "rating         10\n",
       "dtype: int64"
      ]
     },
     "execution_count": 4,
     "metadata": {},
     "output_type": "execute_result"
    }
   ],
   "source": [
    "train_ratings.nunique()"
   ]
  },
  {
   "cell_type": "code",
   "execution_count": 6,
   "metadata": {},
   "outputs": [
    {
     "data": {
      "text/plain": [
       "user_id    26167\n",
       "isbn       52000\n",
       "rating         1\n",
       "dtype: int64"
      ]
     },
     "execution_count": 6,
     "metadata": {},
     "output_type": "execute_result"
    }
   ],
   "source": [
    "test_ratings.nunique()"
   ]
  },
  {
   "cell_type": "code",
   "execution_count": 8,
   "metadata": {},
   "outputs": [
    {
     "name": "stdout",
     "output_type": "stream",
     "text": [
      "users 데이터프레임의 user_id 컬럼의 값들이 train_ratings 데이터프레임의 user_id 컬럼에 모두 포함됩니다.\n"
     ]
    }
   ],
   "source": [
    "# users 데이터프레임의 user_id 컬럼에 포함된 값들이 train_ratings 데이터프레임의 user_id 컬럼에 모두 포함되어 있는지 확인합니다.\n",
    "if train_ratings['user_id'].isin(users['user_id']).all():\n",
    "    print(\"users 데이터프레임의 user_id 컬럼의 값들이 train_ratings 데이터프레임의 user_id 컬럼에 모두 포함됩니다.\")\n",
    "else:\n",
    "    print(\"users 데이터프레임의 user_id 컬럼의 값들 중 일부가 train_ratings 데이터프레임의 user_id 컬럼에 포함되어 있지 않습니다.\")\n"
   ]
  },
  {
   "cell_type": "code",
   "execution_count": 9,
   "metadata": {},
   "outputs": [
    {
     "name": "stdout",
     "output_type": "stream",
     "text": [
      "users 데이터프레임의 user_id 컬럼의 값들이 train_ratings 데이터프레임의 user_id 컬럼에 모두 포함됩니다.\n"
     ]
    }
   ],
   "source": [
    "# users 데이터프레임의 user_id 컬럼에 포함된 값들이 train_ratings 데이터프레임의 user_id 컬럼에 모두 포함되어 있는지 확인합니다.\n",
    "if test_ratings['user_id'].isin(users['user_id']).all():\n",
    "    print(\"users 데이터프레임의 user_id 컬럼의 값들이 train_ratings 데이터프레임의 user_id 컬럼에 모두 포함됩니다.\")\n",
    "else:\n",
    "    print(\"users 데이터프레임의 user_id 컬럼의 값들 중 일부가 train_ratings 데이터프레임의 user_id 컬럼에 포함되어 있지 않습니다.\")\n"
   ]
  },
  {
   "cell_type": "code",
   "execution_count": 10,
   "metadata": {},
   "outputs": [
    {
     "name": "stdout",
     "output_type": "stream",
     "text": [
      "train_ratings 데이터프레임의 isbn 컬럼의 값들이 books 데이터프레임의 isbn 컬럼에 모두 포함됩니다.\n"
     ]
    }
   ],
   "source": [
    "# train_ratings 데이터프레임의 isbn 컬럼에 포함된 값들이 books 데이터프레임의 isbn 컬럼에 모두 포함되어 있는지 확인합니다.\n",
    "if train_ratings['isbn'].isin(books['isbn']).all():\n",
    "    print(\"모두 포함\")\n",
    "else:\n",
    "    print(\"모두 포함되어 있지 않음.\")\n"
   ]
  },
  {
   "cell_type": "code",
   "execution_count": 11,
   "metadata": {},
   "outputs": [
    {
     "name": "stdout",
     "output_type": "stream",
     "text": [
      "모두 포함\n"
     ]
    }
   ],
   "source": [
    "# train_ratings 데이터프레임의 isbn 컬럼에 포함된 값들이 books 데이터프레임의 isbn 컬럼에 모두 포함되어 있는지 확인합니다.\n",
    "if test_ratings['isbn'].isin(books['isbn']).all():\n",
    "    print(\"모두 포함\")\n",
    "else:\n",
    "    print(\"모두 포함되어 있지 않음.\")\n"
   ]
  }
 ],
 "metadata": {
  "kernelspec": {
   "display_name": "base",
   "language": "python",
   "name": "python3"
  },
  "language_info": {
   "codemirror_mode": {
    "name": "ipython",
    "version": 3
   },
   "file_extension": ".py",
   "mimetype": "text/x-python",
   "name": "python",
   "nbconvert_exporter": "python",
   "pygments_lexer": "ipython3",
   "version": "3.8.5"
  },
  "orig_nbformat": 4
 },
 "nbformat": 4,
 "nbformat_minor": 2
}
