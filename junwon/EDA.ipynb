{
 "cells": [
  {
   "cell_type": "markdown",
   "metadata": {},
   "source": [
    "# EDA "
   ]
  },
  {
   "cell_type": "code",
   "execution_count": 1,
   "metadata": {},
   "outputs": [
    {
     "name": "stdout",
     "output_type": "stream",
     "text": [
      "users shape:  (68092, 3)\n",
      "books shape:  (149570, 10)\n",
      "ratings shape:  (306795, 3)\n"
     ]
    }
   ],
   "source": [
    "#사용하려는 데이터 보기\n",
    "import pandas as pd\n",
    "import numpy as np\n",
    "\n",
    "#pandas로 읽어옴\n",
    "users = pd.read_csv('../data/users.csv')\n",
    "books = pd.read_csv('../data/books.csv')\n",
    "train_ratings = pd.read_csv('../data/train_ratings.csv')\n",
    "\n",
    "\n",
    "print('users shape: ', users.shape)\n",
    "print('books shape: ', books.shape)\n",
    "print('ratings shape: ', train_ratings.shape)"
   ]
  },
  {
   "cell_type": "markdown",
   "metadata": {},
   "source": [
    "# 유저 데이터 분석"
   ]
  },
  {
   "cell_type": "code",
   "execution_count": 27,
   "metadata": {},
   "outputs": [
    {
     "data": {
      "text/html": [
       "<div>\n",
       "<style scoped>\n",
       "    .dataframe tbody tr th:only-of-type {\n",
       "        vertical-align: middle;\n",
       "    }\n",
       "\n",
       "    .dataframe tbody tr th {\n",
       "        vertical-align: top;\n",
       "    }\n",
       "\n",
       "    .dataframe thead th {\n",
       "        text-align: right;\n",
       "    }\n",
       "</style>\n",
       "<table border=\"1\" class=\"dataframe\">\n",
       "  <thead>\n",
       "    <tr style=\"text-align: right;\">\n",
       "      <th></th>\n",
       "      <th>user_id</th>\n",
       "      <th>location</th>\n",
       "      <th>age</th>\n",
       "    </tr>\n",
       "  </thead>\n",
       "  <tbody>\n",
       "    <tr>\n",
       "      <th>0</th>\n",
       "      <td>8</td>\n",
       "      <td>timmins, ontario, canada</td>\n",
       "      <td>NaN</td>\n",
       "    </tr>\n",
       "    <tr>\n",
       "      <th>1</th>\n",
       "      <td>11400</td>\n",
       "      <td>ottawa, ontario, canada</td>\n",
       "      <td>49.0</td>\n",
       "    </tr>\n",
       "    <tr>\n",
       "      <th>2</th>\n",
       "      <td>11676</td>\n",
       "      <td>n/a, n/a, n/a</td>\n",
       "      <td>NaN</td>\n",
       "    </tr>\n",
       "    <tr>\n",
       "      <th>3</th>\n",
       "      <td>67544</td>\n",
       "      <td>toronto, ontario, canada</td>\n",
       "      <td>30.0</td>\n",
       "    </tr>\n",
       "    <tr>\n",
       "      <th>4</th>\n",
       "      <td>85526</td>\n",
       "      <td>victoria, british columbia, canada</td>\n",
       "      <td>36.0</td>\n",
       "    </tr>\n",
       "  </tbody>\n",
       "</table>\n",
       "</div>"
      ],
      "text/plain": [
       "   user_id                            location   age\n",
       "0        8            timmins, ontario, canada   NaN\n",
       "1    11400             ottawa, ontario, canada  49.0\n",
       "2    11676                       n/a, n/a, n/a   NaN\n",
       "3    67544            toronto, ontario, canada  30.0\n",
       "4    85526  victoria, british columbia, canada  36.0"
      ]
     },
     "execution_count": 27,
     "metadata": {},
     "output_type": "execute_result"
    }
   ],
   "source": [
    "users.head()"
   ]
  },
  {
   "cell_type": "code",
   "execution_count": 28,
   "metadata": {},
   "outputs": [
    {
     "data": {
      "text/html": [
       "<div>\n",
       "<style scoped>\n",
       "    .dataframe tbody tr th:only-of-type {\n",
       "        vertical-align: middle;\n",
       "    }\n",
       "\n",
       "    .dataframe tbody tr th {\n",
       "        vertical-align: top;\n",
       "    }\n",
       "\n",
       "    .dataframe thead th {\n",
       "        text-align: right;\n",
       "    }\n",
       "</style>\n",
       "<table border=\"1\" class=\"dataframe\">\n",
       "  <thead>\n",
       "    <tr style=\"text-align: right;\">\n",
       "      <th></th>\n",
       "      <th>user_id</th>\n",
       "      <th>age</th>\n",
       "    </tr>\n",
       "  </thead>\n",
       "  <tbody>\n",
       "    <tr>\n",
       "      <th>count</th>\n",
       "      <td>68092.000000</td>\n",
       "      <td>40259.000000</td>\n",
       "    </tr>\n",
       "    <tr>\n",
       "      <th>mean</th>\n",
       "      <td>139381.329539</td>\n",
       "      <td>36.069873</td>\n",
       "    </tr>\n",
       "    <tr>\n",
       "      <th>std</th>\n",
       "      <td>80523.969862</td>\n",
       "      <td>13.842571</td>\n",
       "    </tr>\n",
       "    <tr>\n",
       "      <th>min</th>\n",
       "      <td>8.000000</td>\n",
       "      <td>5.000000</td>\n",
       "    </tr>\n",
       "    <tr>\n",
       "      <th>25%</th>\n",
       "      <td>69008.750000</td>\n",
       "      <td>25.000000</td>\n",
       "    </tr>\n",
       "    <tr>\n",
       "      <th>50%</th>\n",
       "      <td>138845.500000</td>\n",
       "      <td>34.000000</td>\n",
       "    </tr>\n",
       "    <tr>\n",
       "      <th>75%</th>\n",
       "      <td>209388.250000</td>\n",
       "      <td>45.000000</td>\n",
       "    </tr>\n",
       "    <tr>\n",
       "      <th>max</th>\n",
       "      <td>278854.000000</td>\n",
       "      <td>99.000000</td>\n",
       "    </tr>\n",
       "  </tbody>\n",
       "</table>\n",
       "</div>"
      ],
      "text/plain": [
       "             user_id           age\n",
       "count   68092.000000  40259.000000\n",
       "mean   139381.329539     36.069873\n",
       "std     80523.969862     13.842571\n",
       "min         8.000000      5.000000\n",
       "25%     69008.750000     25.000000\n",
       "50%    138845.500000     34.000000\n",
       "75%    209388.250000     45.000000\n",
       "max    278854.000000     99.000000"
      ]
     },
     "execution_count": 28,
     "metadata": {},
     "output_type": "execute_result"
    }
   ],
   "source": [
    "users.describe()"
   ]
  },
  {
   "cell_type": "code",
   "execution_count": 29,
   "metadata": {},
   "outputs": [
    {
     "name": "stdout",
     "output_type": "stream",
     "text": [
      "<class 'pandas.core.frame.DataFrame'>\n",
      "RangeIndex: 68092 entries, 0 to 68091\n",
      "Data columns (total 3 columns):\n",
      " #   Column    Non-Null Count  Dtype  \n",
      "---  ------    --------------  -----  \n",
      " 0   user_id   68092 non-null  int64  \n",
      " 1   location  68092 non-null  object \n",
      " 2   age       40259 non-null  float64\n",
      "dtypes: float64(1), int64(1), object(1)\n",
      "memory usage: 1.6+ MB\n"
     ]
    }
   ],
   "source": [
    "users.info()"
   ]
  },
  {
   "cell_type": "code",
   "execution_count": 30,
   "metadata": {},
   "outputs": [],
   "source": [
    "#location n/a를 처리하기 위해서 특수문자 제거?\n",
    "#제거 안됨. n/a에서 na로는 변경이 안됨.\n",
    "users['location'] = users['location'].str.replace(r'[^0-9a-zA-Z:/,]', '')\n",
    "\n",
    "#city, state, country순으로 입력하기\n",
    "#apply 함수\n",
    "users['location_city'] = users['location'].apply(lambda x: x.split(',')[0].strip())\n",
    "users['location_state'] = users['location'].apply(lambda x: x.split(',')[1].strip())\n",
    "users['location_country'] = users['location'].apply(lambda x: x.split(',')[2].strip())\n",
    "\n",
    "#컴퓨터가 인식할 수 있는 결측값으로 변환합니다.\n",
    "users = users.replace('n/a', np.nan) \n",
    "users = users.replace('', np.nan) # 일부 경우 , , ,으로 입력된 경우가 있었으므로 이런 경우에도 결측값으로 변환합니다."
   ]
  },
  {
   "cell_type": "code",
   "execution_count": 31,
   "metadata": {},
   "outputs": [
    {
     "data": {
      "text/plain": [
       "user_id             0.000000\n",
       "location            0.000000\n",
       "age                 0.408756\n",
       "location_city       0.001366\n",
       "location_state      0.046569\n",
       "location_country    0.031164\n",
       "dtype: float64"
      ]
     },
     "execution_count": 31,
     "metadata": {},
     "output_type": "execute_result"
    }
   ],
   "source": [
    "#결측치 비율 확인\n",
    "users.isnull().sum()/len(users)\n",
    "#age 결측치를 채울 수 있는 방법?"
   ]
  },
  {
   "cell_type": "code",
   "execution_count": 32,
   "metadata": {},
   "outputs": [
    {
     "data": {
      "text/plain": [
       "user_id                 0\n",
       "location                0\n",
       "age                 27833\n",
       "location_city          93\n",
       "location_state       3171\n",
       "location_country     2122\n",
       "dtype: int64"
      ]
     },
     "execution_count": 32,
     "metadata": {},
     "output_type": "execute_result"
    }
   ],
   "source": [
    "users.isna().sum()"
   ]
  },
  {
   "cell_type": "code",
   "execution_count": 8,
   "metadata": {},
   "outputs": [],
   "source": [
    "#피처 추출, 기준은?\n",
    "users = users[['user_id','location_city','age']]"
   ]
  },
  {
   "cell_type": "code",
   "execution_count": 9,
   "metadata": {},
   "outputs": [],
   "source": [
    "#결측치 제거\n",
    "users = users.dropna(subset=['location_city','age'])"
   ]
  },
  {
   "cell_type": "code",
   "execution_count": 10,
   "metadata": {},
   "outputs": [
    {
     "data": {
      "text/html": [
       "<div>\n",
       "<style scoped>\n",
       "    .dataframe tbody tr th:only-of-type {\n",
       "        vertical-align: middle;\n",
       "    }\n",
       "\n",
       "    .dataframe tbody tr th {\n",
       "        vertical-align: top;\n",
       "    }\n",
       "\n",
       "    .dataframe thead th {\n",
       "        text-align: right;\n",
       "    }\n",
       "</style>\n",
       "<table border=\"1\" class=\"dataframe\">\n",
       "  <thead>\n",
       "    <tr style=\"text-align: right;\">\n",
       "      <th></th>\n",
       "      <th>user_id</th>\n",
       "      <th>location_city</th>\n",
       "      <th>age</th>\n",
       "    </tr>\n",
       "  </thead>\n",
       "  <tbody>\n",
       "    <tr>\n",
       "      <th>1</th>\n",
       "      <td>11400</td>\n",
       "      <td>ottawa</td>\n",
       "      <td>49.0</td>\n",
       "    </tr>\n",
       "    <tr>\n",
       "      <th>3</th>\n",
       "      <td>67544</td>\n",
       "      <td>toronto</td>\n",
       "      <td>30.0</td>\n",
       "    </tr>\n",
       "    <tr>\n",
       "      <th>4</th>\n",
       "      <td>85526</td>\n",
       "      <td>victoria</td>\n",
       "      <td>36.0</td>\n",
       "    </tr>\n",
       "    <tr>\n",
       "      <th>5</th>\n",
       "      <td>96054</td>\n",
       "      <td>ottawa</td>\n",
       "      <td>29.0</td>\n",
       "    </tr>\n",
       "    <tr>\n",
       "      <th>8</th>\n",
       "      <td>177458</td>\n",
       "      <td>ottawa</td>\n",
       "      <td>29.0</td>\n",
       "    </tr>\n",
       "    <tr>\n",
       "      <th>...</th>\n",
       "      <td>...</td>\n",
       "      <td>...</td>\n",
       "      <td>...</td>\n",
       "    </tr>\n",
       "    <tr>\n",
       "      <th>68086</th>\n",
       "      <td>278330</td>\n",
       "      <td>livonia</td>\n",
       "      <td>46.0</td>\n",
       "    </tr>\n",
       "    <tr>\n",
       "      <th>68087</th>\n",
       "      <td>278376</td>\n",
       "      <td>danville</td>\n",
       "      <td>54.0</td>\n",
       "    </tr>\n",
       "    <tr>\n",
       "      <th>68088</th>\n",
       "      <td>278621</td>\n",
       "      <td>victoria</td>\n",
       "      <td>74.0</td>\n",
       "    </tr>\n",
       "    <tr>\n",
       "      <th>68090</th>\n",
       "      <td>278659</td>\n",
       "      <td>vancouver</td>\n",
       "      <td>33.0</td>\n",
       "    </tr>\n",
       "    <tr>\n",
       "      <th>68091</th>\n",
       "      <td>278713</td>\n",
       "      <td>albuquerque</td>\n",
       "      <td>63.0</td>\n",
       "    </tr>\n",
       "  </tbody>\n",
       "</table>\n",
       "<p>40221 rows × 3 columns</p>\n",
       "</div>"
      ],
      "text/plain": [
       "       user_id location_city   age\n",
       "1        11400        ottawa  49.0\n",
       "3        67544       toronto  30.0\n",
       "4        85526      victoria  36.0\n",
       "5        96054        ottawa  29.0\n",
       "8       177458        ottawa  29.0\n",
       "...        ...           ...   ...\n",
       "68086   278330       livonia  46.0\n",
       "68087   278376      danville  54.0\n",
       "68088   278621      victoria  74.0\n",
       "68090   278659     vancouver  33.0\n",
       "68091   278713   albuquerque  63.0\n",
       "\n",
       "[40221 rows x 3 columns]"
      ]
     },
     "execution_count": 10,
     "metadata": {},
     "output_type": "execute_result"
    }
   ],
   "source": [
    "users"
   ]
  },
  {
   "cell_type": "code",
   "execution_count": 11,
   "metadata": {},
   "outputs": [
    {
     "data": {
      "text/plain": [
       "user_id          0.0\n",
       "location_city    0.0\n",
       "age              0.0\n",
       "dtype: float64"
      ]
     },
     "execution_count": 11,
     "metadata": {},
     "output_type": "execute_result"
    }
   ],
   "source": [
    "users.isnull().sum()/len(users)"
   ]
  },
  {
   "cell_type": "markdown",
   "metadata": {},
   "source": [
    "# 책 데이터 분석"
   ]
  },
  {
   "cell_type": "code",
   "execution_count": 12,
   "metadata": {},
   "outputs": [
    {
     "data": {
      "text/html": [
       "<div>\n",
       "<style scoped>\n",
       "    .dataframe tbody tr th:only-of-type {\n",
       "        vertical-align: middle;\n",
       "    }\n",
       "\n",
       "    .dataframe tbody tr th {\n",
       "        vertical-align: top;\n",
       "    }\n",
       "\n",
       "    .dataframe thead th {\n",
       "        text-align: right;\n",
       "    }\n",
       "</style>\n",
       "<table border=\"1\" class=\"dataframe\">\n",
       "  <thead>\n",
       "    <tr style=\"text-align: right;\">\n",
       "      <th></th>\n",
       "      <th>isbn</th>\n",
       "      <th>book_title</th>\n",
       "      <th>book_author</th>\n",
       "      <th>year_of_publication</th>\n",
       "      <th>publisher</th>\n",
       "      <th>img_url</th>\n",
       "      <th>language</th>\n",
       "      <th>category</th>\n",
       "      <th>summary</th>\n",
       "      <th>img_path</th>\n",
       "    </tr>\n",
       "  </thead>\n",
       "  <tbody>\n",
       "    <tr>\n",
       "      <th>0</th>\n",
       "      <td>0002005018</td>\n",
       "      <td>Clara Callan</td>\n",
       "      <td>Richard Bruce Wright</td>\n",
       "      <td>2001.0</td>\n",
       "      <td>HarperFlamingo Canada</td>\n",
       "      <td>http://images.amazon.com/images/P/0002005018.0...</td>\n",
       "      <td>en</td>\n",
       "      <td>['Actresses']</td>\n",
       "      <td>In a small town in Canada, Clara Callan reluct...</td>\n",
       "      <td>images/0002005018.01.THUMBZZZ.jpg</td>\n",
       "    </tr>\n",
       "    <tr>\n",
       "      <th>1</th>\n",
       "      <td>0060973129</td>\n",
       "      <td>Decision in Normandy</td>\n",
       "      <td>Carlo D'Este</td>\n",
       "      <td>1991.0</td>\n",
       "      <td>HarperPerennial</td>\n",
       "      <td>http://images.amazon.com/images/P/0060973129.0...</td>\n",
       "      <td>en</td>\n",
       "      <td>['1940-1949']</td>\n",
       "      <td>Here, for the first time in paperback, is an o...</td>\n",
       "      <td>images/0060973129.01.THUMBZZZ.jpg</td>\n",
       "    </tr>\n",
       "    <tr>\n",
       "      <th>2</th>\n",
       "      <td>0374157065</td>\n",
       "      <td>Flu: The Story of the Great Influenza Pandemic...</td>\n",
       "      <td>Gina Bari Kolata</td>\n",
       "      <td>1999.0</td>\n",
       "      <td>Farrar Straus Giroux</td>\n",
       "      <td>http://images.amazon.com/images/P/0374157065.0...</td>\n",
       "      <td>en</td>\n",
       "      <td>['Medical']</td>\n",
       "      <td>Describes the great flu epidemic of 1918, an o...</td>\n",
       "      <td>images/0374157065.01.THUMBZZZ.jpg</td>\n",
       "    </tr>\n",
       "    <tr>\n",
       "      <th>3</th>\n",
       "      <td>0399135782</td>\n",
       "      <td>The Kitchen God's Wife</td>\n",
       "      <td>Amy Tan</td>\n",
       "      <td>1991.0</td>\n",
       "      <td>Putnam Pub Group</td>\n",
       "      <td>http://images.amazon.com/images/P/0399135782.0...</td>\n",
       "      <td>en</td>\n",
       "      <td>['Fiction']</td>\n",
       "      <td>A Chinese immigrant who is convinced she is dy...</td>\n",
       "      <td>images/0399135782.01.THUMBZZZ.jpg</td>\n",
       "    </tr>\n",
       "    <tr>\n",
       "      <th>4</th>\n",
       "      <td>0425176428</td>\n",
       "      <td>What If?: The World's Foremost Military Histor...</td>\n",
       "      <td>Robert Cowley</td>\n",
       "      <td>2000.0</td>\n",
       "      <td>Berkley Publishing Group</td>\n",
       "      <td>http://images.amazon.com/images/P/0425176428.0...</td>\n",
       "      <td>en</td>\n",
       "      <td>['History']</td>\n",
       "      <td>Essays by respected military historians, inclu...</td>\n",
       "      <td>images/0425176428.01.THUMBZZZ.jpg</td>\n",
       "    </tr>\n",
       "  </tbody>\n",
       "</table>\n",
       "</div>"
      ],
      "text/plain": [
       "         isbn                                         book_title   \n",
       "0  0002005018                                       Clara Callan  \\\n",
       "1  0060973129                               Decision in Normandy   \n",
       "2  0374157065  Flu: The Story of the Great Influenza Pandemic...   \n",
       "3  0399135782                             The Kitchen God's Wife   \n",
       "4  0425176428  What If?: The World's Foremost Military Histor...   \n",
       "\n",
       "            book_author  year_of_publication                 publisher   \n",
       "0  Richard Bruce Wright               2001.0     HarperFlamingo Canada  \\\n",
       "1          Carlo D'Este               1991.0           HarperPerennial   \n",
       "2      Gina Bari Kolata               1999.0      Farrar Straus Giroux   \n",
       "3               Amy Tan               1991.0          Putnam Pub Group   \n",
       "4         Robert Cowley               2000.0  Berkley Publishing Group   \n",
       "\n",
       "                                             img_url language       category   \n",
       "0  http://images.amazon.com/images/P/0002005018.0...       en  ['Actresses']  \\\n",
       "1  http://images.amazon.com/images/P/0060973129.0...       en  ['1940-1949']   \n",
       "2  http://images.amazon.com/images/P/0374157065.0...       en    ['Medical']   \n",
       "3  http://images.amazon.com/images/P/0399135782.0...       en    ['Fiction']   \n",
       "4  http://images.amazon.com/images/P/0425176428.0...       en    ['History']   \n",
       "\n",
       "                                             summary   \n",
       "0  In a small town in Canada, Clara Callan reluct...  \\\n",
       "1  Here, for the first time in paperback, is an o...   \n",
       "2  Describes the great flu epidemic of 1918, an o...   \n",
       "3  A Chinese immigrant who is convinced she is dy...   \n",
       "4  Essays by respected military historians, inclu...   \n",
       "\n",
       "                            img_path  \n",
       "0  images/0002005018.01.THUMBZZZ.jpg  \n",
       "1  images/0060973129.01.THUMBZZZ.jpg  \n",
       "2  images/0374157065.01.THUMBZZZ.jpg  \n",
       "3  images/0399135782.01.THUMBZZZ.jpg  \n",
       "4  images/0425176428.01.THUMBZZZ.jpg  "
      ]
     },
     "execution_count": 12,
     "metadata": {},
     "output_type": "execute_result"
    }
   ],
   "source": [
    "books.head()"
   ]
  },
  {
   "cell_type": "code",
   "execution_count": 13,
   "metadata": {},
   "outputs": [
    {
     "data": {
      "text/plain": [
       "isbn                   0.000000\n",
       "book_title             0.000000\n",
       "book_author            0.000007\n",
       "year_of_publication    0.000000\n",
       "publisher              0.000000\n",
       "img_url                0.000000\n",
       "language               0.449468\n",
       "category               0.460326\n",
       "summary                0.449468\n",
       "img_path               0.000000\n",
       "dtype: float64"
      ]
     },
     "execution_count": 13,
     "metadata": {},
     "output_type": "execute_result"
    }
   ],
   "source": [
    "books.isnull().sum()/len(books)"
   ]
  },
  {
   "cell_type": "code",
   "execution_count": 42,
   "metadata": {},
   "outputs": [
    {
     "data": {
      "text/plain": [
       "93"
      ]
     },
     "execution_count": 42,
     "metadata": {},
     "output_type": "execute_result"
    }
   ],
   "source": [
    "users['location_city'].isna().sum()"
   ]
  },
  {
   "cell_type": "code",
   "execution_count": 43,
   "metadata": {},
   "outputs": [
    {
     "data": {
      "text/plain": [
       "0.449468476298723"
      ]
     },
     "execution_count": 43,
     "metadata": {},
     "output_type": "execute_result"
    }
   ],
   "source": [
    "books['language'].isna().sum()/len(books)"
   ]
  },
  {
   "cell_type": "code",
   "execution_count": 44,
   "metadata": {},
   "outputs": [
    {
     "data": {
      "text/plain": [
       "26"
      ]
     },
     "execution_count": 44,
     "metadata": {},
     "output_type": "execute_result"
    }
   ],
   "source": [
    "books['language'].nunique()"
   ]
  },
  {
   "cell_type": "code",
   "execution_count": 14,
   "metadata": {},
   "outputs": [
    {
     "data": {
      "text/plain": [
       "isbn                   149570\n",
       "book_title             135436\n",
       "book_author             62058\n",
       "year_of_publication        95\n",
       "publisher               11571\n",
       "img_url                149570\n",
       "language                   26\n",
       "category                 4292\n",
       "summary                 79872\n",
       "img_path               149570\n",
       "dtype: int64"
      ]
     },
     "execution_count": 14,
     "metadata": {},
     "output_type": "execute_result"
    }
   ],
   "source": [
    "books.nunique()"
   ]
  },
  {
   "cell_type": "code",
   "execution_count": 22,
   "metadata": {},
   "outputs": [
    {
     "data": {
      "text/plain": [
       "1"
      ]
     },
     "execution_count": 22,
     "metadata": {},
     "output_type": "execute_result"
    }
   ],
   "source": [
    "#isbn\n",
    "#모두 10자리\n",
    "books['isbn'].apply(len).nunique()"
   ]
  },
  {
   "cell_type": "code",
   "execution_count": 15,
   "metadata": {},
   "outputs": [],
   "source": [
    "#출판사와 카테고리를 줄인다?\n",
    "#도메인 지식이 필요!\n",
    "#isbn 채우기"
   ]
  },
  {
   "cell_type": "code",
   "execution_count": 16,
   "metadata": {},
   "outputs": [
    {
     "data": {
      "text/html": [
       "<div>\n",
       "<style scoped>\n",
       "    .dataframe tbody tr th:only-of-type {\n",
       "        vertical-align: middle;\n",
       "    }\n",
       "\n",
       "    .dataframe tbody tr th {\n",
       "        vertical-align: top;\n",
       "    }\n",
       "\n",
       "    .dataframe thead th {\n",
       "        text-align: right;\n",
       "    }\n",
       "</style>\n",
       "<table border=\"1\" class=\"dataframe\">\n",
       "  <thead>\n",
       "    <tr style=\"text-align: right;\">\n",
       "      <th></th>\n",
       "      <th>user_id</th>\n",
       "      <th>isbn</th>\n",
       "      <th>rating</th>\n",
       "    </tr>\n",
       "  </thead>\n",
       "  <tbody>\n",
       "    <tr>\n",
       "      <th>0</th>\n",
       "      <td>8</td>\n",
       "      <td>0002005018</td>\n",
       "      <td>4</td>\n",
       "    </tr>\n",
       "    <tr>\n",
       "      <th>1</th>\n",
       "      <td>67544</td>\n",
       "      <td>0002005018</td>\n",
       "      <td>7</td>\n",
       "    </tr>\n",
       "    <tr>\n",
       "      <th>2</th>\n",
       "      <td>123629</td>\n",
       "      <td>0002005018</td>\n",
       "      <td>8</td>\n",
       "    </tr>\n",
       "    <tr>\n",
       "      <th>3</th>\n",
       "      <td>200273</td>\n",
       "      <td>0002005018</td>\n",
       "      <td>8</td>\n",
       "    </tr>\n",
       "    <tr>\n",
       "      <th>4</th>\n",
       "      <td>210926</td>\n",
       "      <td>0002005018</td>\n",
       "      <td>9</td>\n",
       "    </tr>\n",
       "  </tbody>\n",
       "</table>\n",
       "</div>"
      ],
      "text/plain": [
       "   user_id        isbn  rating\n",
       "0        8  0002005018       4\n",
       "1    67544  0002005018       7\n",
       "2   123629  0002005018       8\n",
       "3   200273  0002005018       8\n",
       "4   210926  0002005018       9"
      ]
     },
     "execution_count": 16,
     "metadata": {},
     "output_type": "execute_result"
    }
   ],
   "source": [
    "train_ratings.head()"
   ]
  },
  {
   "cell_type": "code",
   "execution_count": 149,
   "metadata": {},
   "outputs": [
    {
     "data": {
      "text/plain": [
       "user_id    0\n",
       "isbn       0\n",
       "rating     0\n",
       "dtype: int64"
      ]
     },
     "execution_count": 149,
     "metadata": {},
     "output_type": "execute_result"
    }
   ],
   "source": [
    "train_ratings.isnull().sum()"
   ]
  },
  {
   "cell_type": "code",
   "execution_count": 150,
   "metadata": {},
   "outputs": [
    {
     "data": {
      "text/plain": [
       "user_id     59803\n",
       "isbn       129777\n",
       "rating         10\n",
       "dtype: int64"
      ]
     },
     "execution_count": 150,
     "metadata": {},
     "output_type": "execute_result"
    }
   ],
   "source": [
    "train_ratings.nunique(axis=0)"
   ]
  },
  {
   "cell_type": "code",
   "execution_count": 151,
   "metadata": {},
   "outputs": [],
   "source": [
    "#merge하면\n",
    "train_data = users.merge(train_ratings, how='left', on='user_id')"
   ]
  },
  {
   "cell_type": "code",
   "execution_count": 152,
   "metadata": {},
   "outputs": [
    {
     "data": {
      "text/html": [
       "<div>\n",
       "<style scoped>\n",
       "    .dataframe tbody tr th:only-of-type {\n",
       "        vertical-align: middle;\n",
       "    }\n",
       "\n",
       "    .dataframe tbody tr th {\n",
       "        vertical-align: top;\n",
       "    }\n",
       "\n",
       "    .dataframe thead th {\n",
       "        text-align: right;\n",
       "    }\n",
       "</style>\n",
       "<table border=\"1\" class=\"dataframe\">\n",
       "  <thead>\n",
       "    <tr style=\"text-align: right;\">\n",
       "      <th></th>\n",
       "      <th>user_id</th>\n",
       "      <th>location_city</th>\n",
       "      <th>age</th>\n",
       "      <th>isbn</th>\n",
       "      <th>rating</th>\n",
       "    </tr>\n",
       "  </thead>\n",
       "  <tbody>\n",
       "    <tr>\n",
       "      <th>0</th>\n",
       "      <td>11400</td>\n",
       "      <td>ottawa</td>\n",
       "      <td>49.0</td>\n",
       "      <td>0786868716</td>\n",
       "      <td>9.0</td>\n",
       "    </tr>\n",
       "    <tr>\n",
       "      <th>1</th>\n",
       "      <td>11400</td>\n",
       "      <td>ottawa</td>\n",
       "      <td>49.0</td>\n",
       "      <td>0151008116</td>\n",
       "      <td>6.0</td>\n",
       "    </tr>\n",
       "    <tr>\n",
       "      <th>2</th>\n",
       "      <td>11400</td>\n",
       "      <td>ottawa</td>\n",
       "      <td>49.0</td>\n",
       "      <td>0312195516</td>\n",
       "      <td>7.0</td>\n",
       "    </tr>\n",
       "    <tr>\n",
       "      <th>3</th>\n",
       "      <td>11400</td>\n",
       "      <td>ottawa</td>\n",
       "      <td>49.0</td>\n",
       "      <td>0316789089</td>\n",
       "      <td>7.0</td>\n",
       "    </tr>\n",
       "    <tr>\n",
       "      <th>4</th>\n",
       "      <td>11400</td>\n",
       "      <td>ottawa</td>\n",
       "      <td>49.0</td>\n",
       "      <td>0440222656</td>\n",
       "      <td>5.0</td>\n",
       "    </tr>\n",
       "    <tr>\n",
       "      <th>...</th>\n",
       "      <td>...</td>\n",
       "      <td>...</td>\n",
       "      <td>...</td>\n",
       "      <td>...</td>\n",
       "      <td>...</td>\n",
       "    </tr>\n",
       "    <tr>\n",
       "      <th>217767</th>\n",
       "      <td>278330</td>\n",
       "      <td>livonia</td>\n",
       "      <td>46.0</td>\n",
       "      <td>0898861411</td>\n",
       "      <td>3.0</td>\n",
       "    </tr>\n",
       "    <tr>\n",
       "      <th>217768</th>\n",
       "      <td>278376</td>\n",
       "      <td>danville</td>\n",
       "      <td>54.0</td>\n",
       "      <td>0060530103</td>\n",
       "      <td>7.0</td>\n",
       "    </tr>\n",
       "    <tr>\n",
       "      <th>217769</th>\n",
       "      <td>278621</td>\n",
       "      <td>victoria</td>\n",
       "      <td>74.0</td>\n",
       "      <td>1550390961</td>\n",
       "      <td>8.0</td>\n",
       "    </tr>\n",
       "    <tr>\n",
       "      <th>217770</th>\n",
       "      <td>278659</td>\n",
       "      <td>vancouver</td>\n",
       "      <td>33.0</td>\n",
       "      <td>0345330293</td>\n",
       "      <td>10.0</td>\n",
       "    </tr>\n",
       "    <tr>\n",
       "      <th>217771</th>\n",
       "      <td>278713</td>\n",
       "      <td>albuquerque</td>\n",
       "      <td>63.0</td>\n",
       "      <td>0670528951</td>\n",
       "      <td>7.0</td>\n",
       "    </tr>\n",
       "  </tbody>\n",
       "</table>\n",
       "<p>217772 rows × 5 columns</p>\n",
       "</div>"
      ],
      "text/plain": [
       "        user_id location_city   age        isbn  rating\n",
       "0         11400        ottawa  49.0  0786868716     9.0\n",
       "1         11400        ottawa  49.0  0151008116     6.0\n",
       "2         11400        ottawa  49.0  0312195516     7.0\n",
       "3         11400        ottawa  49.0  0316789089     7.0\n",
       "4         11400        ottawa  49.0  0440222656     5.0\n",
       "...         ...           ...   ...         ...     ...\n",
       "217767   278330       livonia  46.0  0898861411     3.0\n",
       "217768   278376      danville  54.0  0060530103     7.0\n",
       "217769   278621      victoria  74.0  1550390961     8.0\n",
       "217770   278659     vancouver  33.0  0345330293    10.0\n",
       "217771   278713   albuquerque  63.0  0670528951     7.0\n",
       "\n",
       "[217772 rows x 5 columns]"
      ]
     },
     "execution_count": 152,
     "metadata": {},
     "output_type": "execute_result"
    }
   ],
   "source": [
    "train_data"
   ]
  },
  {
   "cell_type": "code",
   "execution_count": 153,
   "metadata": {},
   "outputs": [
    {
     "data": {
      "text/plain": [
       "user_id          0.000000\n",
       "location_city    0.000000\n",
       "age              0.000000\n",
       "isbn             0.020806\n",
       "rating           0.020806\n",
       "dtype: float64"
      ]
     },
     "execution_count": 153,
     "metadata": {},
     "output_type": "execute_result"
    }
   ],
   "source": [
    "train_data.isna().sum()/len(train_data)"
   ]
  },
  {
   "cell_type": "code",
   "execution_count": 154,
   "metadata": {},
   "outputs": [],
   "source": [
    "#평가 정보가 없는 데이터 제거\n",
    "train_data = train_data.dropna()"
   ]
  },
  {
   "cell_type": "code",
   "execution_count": 159,
   "metadata": {},
   "outputs": [
    {
     "name": "stdout",
     "output_type": "stream",
     "text": [
      "(40221, 3)\n",
      "(306795, 3)\n",
      "(213241, 5)\n"
     ]
    }
   ],
   "source": [
    "#데이터\n",
    "print(users.shape)\n",
    "print(train_ratings.shape)\n",
    "\n",
    "print(train_data.shape)"
   ]
  },
  {
   "cell_type": "code",
   "execution_count": null,
   "metadata": {},
   "outputs": [],
   "source": []
  },
  {
   "cell_type": "markdown",
   "metadata": {},
   "source": [
    "## 전처리 베이스라인 코드"
   ]
  },
  {
   "cell_type": "code",
   "execution_count": null,
   "metadata": {},
   "outputs": [],
   "source": [
    "import numpy as np\n",
    "import pandas as pd\n",
    "from sklearn.model_selection import train_test_split\n",
    "import torch\n",
    "import torch.nn as nn\n",
    "from torch.utils.data import TensorDataset, DataLoader, Dataset\n",
    "\n",
    "def age_map(x: int) -> int:\n",
    "    x = int(x)\n",
    "    if x < 20:\n",
    "        return 1\n",
    "    elif x >= 20 and x < 30:\n",
    "        return 2\n",
    "    elif x >= 30 and x < 40:\n",
    "        return 3\n",
    "    elif x >= 40 and x < 50:\n",
    "        return 4\n",
    "    elif x >= 50 and x < 60:\n",
    "        return 5\n",
    "    else:\n",
    "        return 6\n",
    "\n",
    "def process_context_data(users, books, ratings1, ratings2):\n",
    "    \"\"\"\n",
    "    Parameters\n",
    "    ----------\n",
    "    users : pd.DataFrame\n",
    "        users.csv를 인덱싱한 데이터\n",
    "    books : pd.DataFrame\n",
    "        books.csv를 인덱싱한 데이터\n",
    "    ratings1 : pd.DataFrame\n",
    "        train 데이터의 rating\n",
    "    ratings2 : pd.DataFrame\n",
    "        test 데이터의 rating\n",
    "    ----------\n",
    "    \"\"\"\n",
    "\n",
    "    users['location_city'] = users['location'].apply(lambda x: x.split(',')[0])\n",
    "    users['location_state'] = users['location'].apply(lambda x: x.split(',')[1])\n",
    "    users['location_country'] = users['location'].apply(lambda x: x.split(',')[2])\n",
    "    users = users.drop(['location'], axis=1)\n",
    "\n",
    "    ratings = pd.concat([ratings1, ratings2]).reset_index(drop=True)\n",
    "\n",
    "    # 인덱싱 처리된 데이터 조인\n",
    "    context_df = ratings.merge(users, on='user_id', how='left').merge(books[['isbn', 'category', 'publisher', 'language', 'book_author']], on='isbn', how='left')\n",
    "    train_df = ratings1.merge(users, on='user_id', how='left').merge(books[['isbn', 'category', 'publisher', 'language', 'book_author']], on='isbn', how='left')\n",
    "    test_df = ratings2.merge(users, on='user_id', how='left').merge(books[['isbn', 'category', 'publisher', 'language', 'book_author']], on='isbn', how='left')\n",
    "\n",
    "    # 인덱싱 처리\n",
    "    loc_city2idx = {v:k for k,v in enumerate(context_df['location_city'].unique())}\n",
    "    loc_state2idx = {v:k for k,v in enumerate(context_df['location_state'].unique())}\n",
    "    loc_country2idx = {v:k for k,v in enumerate(context_df['location_country'].unique())}\n",
    "\n",
    "    train_df['location_city'] = train_df['location_city'].map(loc_city2idx)\n",
    "    train_df['location_state'] = train_df['location_state'].map(loc_state2idx)\n",
    "    train_df['location_country'] = train_df['location_country'].map(loc_country2idx)\n",
    "    test_df['location_city'] = test_df['location_city'].map(loc_city2idx)\n",
    "    test_df['location_state'] = test_df['location_state'].map(loc_state2idx)\n",
    "    test_df['location_country'] = test_df['location_country'].map(loc_country2idx)\n",
    "\n",
    "    train_df['age'] = train_df['age'].fillna(int(train_df['age'].mean()))\n",
    "    train_df['age'] = train_df['age'].apply(age_map)\n",
    "    test_df['age'] = test_df['age'].fillna(int(test_df['age'].mean()))\n",
    "    test_df['age'] = test_df['age'].apply(age_map)\n",
    "\n",
    "    # book 파트 인덱싱\n",
    "    category2idx = {v:k for k,v in enumerate(context_df['category'].unique())}\n",
    "    publisher2idx = {v:k for k,v in enumerate(context_df['publisher'].unique())}\n",
    "    language2idx = {v:k for k,v in enumerate(context_df['language'].unique())}\n",
    "    author2idx = {v:k for k,v in enumerate(context_df['book_author'].unique())}\n",
    "\n",
    "    train_df['category'] = train_df['category'].map(category2idx)\n",
    "    train_df['publisher'] = train_df['publisher'].map(publisher2idx)\n",
    "    train_df['language'] = train_df['language'].map(language2idx)\n",
    "    train_df['book_author'] = train_df['book_author'].map(author2idx)\n",
    "    test_df['category'] = test_df['category'].map(category2idx)\n",
    "    test_df['publisher'] = test_df['publisher'].map(publisher2idx)\n",
    "    test_df['language'] = test_df['language'].map(language2idx)\n",
    "    test_df['book_author'] = test_df['book_author'].map(author2idx)\n",
    "\n",
    "    idx = {\n",
    "        \"loc_city2idx\":loc_city2idx,\n",
    "        \"loc_state2idx\":loc_state2idx,\n",
    "        \"loc_country2idx\":loc_country2idx,\n",
    "        \"category2idx\":category2idx,\n",
    "        \"publisher2idx\":publisher2idx,\n",
    "        \"language2idx\":language2idx,\n",
    "        \"author2idx\":author2idx,\n",
    "    }\n",
    "\n",
    "    return idx, train_df, test_df\n",
    "\n",
    "\n",
    "def context_data_load(args):\n",
    "    \"\"\"\n",
    "    Parameters\n",
    "    ----------\n",
    "    Args:\n",
    "        data_path : str\n",
    "            데이터 경로\n",
    "    ----------\n",
    "    \"\"\"\n",
    "\n",
    "    ######################## DATA LOAD\n",
    "    users = pd.read_csv(args.data_path + 'users.csv')\n",
    "    books = pd.read_csv(args.data_path + 'books.csv')\n",
    "    train = pd.read_csv(args.data_path + 'train_ratings.csv')\n",
    "    test = pd.read_csv(args.data_path + 'test_ratings.csv')\n",
    "    sub = pd.read_csv(args.data_path + 'sample_submission.csv')\n",
    "\n",
    "    ids = pd.concat([train['user_id'], sub['user_id']]).unique()\n",
    "    isbns = pd.concat([train['isbn'], sub['isbn']]).unique()\n",
    "\n",
    "    idx2user = {idx:id for idx, id in enumerate(ids)}\n",
    "    idx2isbn = {idx:isbn for idx, isbn in enumerate(isbns)}\n",
    "\n",
    "    user2idx = {id:idx for idx, id in idx2user.items()}\n",
    "    isbn2idx = {isbn:idx for idx, isbn in idx2isbn.items()}\n",
    "\n",
    "    train['user_id'] = train['user_id'].map(user2idx)\n",
    "    sub['user_id'] = sub['user_id'].map(user2idx)\n",
    "    test['user_id'] = test['user_id'].map(user2idx)\n",
    "    users['user_id'] = users['user_id'].map(user2idx)\n",
    "\n",
    "    train['isbn'] = train['isbn'].map(isbn2idx)\n",
    "    sub['isbn'] = sub['isbn'].map(isbn2idx)\n",
    "    test['isbn'] = test['isbn'].map(isbn2idx)\n",
    "    books['isbn'] = books['isbn'].map(isbn2idx)\n",
    "\n",
    "    idx, context_train, context_test = process_context_data(users, books, train, test)\n",
    "    field_dims = np.array([len(user2idx), len(isbn2idx),\n",
    "                            6, len(idx['loc_city2idx']), len(idx['loc_state2idx']), len(idx['loc_country2idx']),\n",
    "                            len(idx['category2idx']), len(idx['publisher2idx']), len(idx['language2idx']), len(idx['author2idx'])], dtype=np.uint32)\n",
    "\n",
    "    data = {\n",
    "            'train':context_train,\n",
    "            'test':context_test.drop(['rating'], axis=1),\n",
    "            'field_dims':field_dims,\n",
    "            'users':users,\n",
    "            'books':books,\n",
    "            'sub':sub,\n",
    "            'idx2user':idx2user,\n",
    "            'idx2isbn':idx2isbn,\n",
    "            'user2idx':user2idx,\n",
    "            'isbn2idx':isbn2idx,\n",
    "            }\n",
    "\n",
    "\n",
    "    return data\n",
    "\n",
    "\n",
    "def context_data_split(args, data):\n",
    "    \"\"\"\n",
    "    Parameters\n",
    "    ----------\n",
    "    Args:\n",
    "        test_size : float\n",
    "            Train/Valid split 비율을 입력합니다.\n",
    "        seed : int\n",
    "            랜덤 seed 값\n",
    "    ----------\n",
    "    \"\"\"\n",
    "\n",
    "    X_train, X_valid, y_train, y_valid = train_test_split(\n",
    "                                                        data['train'].drop(['rating'], axis=1),\n",
    "                                                        data['train']['rating'],\n",
    "                                                        test_size=args.test_size,\n",
    "                                                        random_state=args.seed,\n",
    "                                                        shuffle=True\n",
    "                                                        )\n",
    "    data['X_train'], data['X_valid'], data['y_train'], data['y_valid'] = X_train, X_valid, y_train, y_valid\n",
    "    return data\n",
    "\n",
    "def context_data_loader(args, data):\n",
    "    \"\"\"\n",
    "    Parameters\n",
    "    ----------\n",
    "    Args:\n",
    "        batch_size : int\n",
    "            데이터 batch에 사용할 데이터 사이즈\n",
    "        data_shuffle : bool\n",
    "            data shuffle 여부\n",
    "    ----------\n",
    "    \"\"\"\n",
    "\n",
    "    train_dataset = TensorDataset(torch.LongTensor(data['X_train'].values), torch.LongTensor(data['y_train'].values))\n",
    "    valid_dataset = TensorDataset(torch.LongTensor(data['X_valid'].values), torch.LongTensor(data['y_valid'].values))\n",
    "    test_dataset = TensorDataset(torch.LongTensor(data['test'].values))\n",
    "\n",
    "    train_dataloader = DataLoader(train_dataset, batch_size=args.batch_size, shuffle=args.data_shuffle)\n",
    "    valid_dataloader = DataLoader(valid_dataset, batch_size=args.batch_size, shuffle=args.data_shuffle)\n",
    "    test_dataloader = DataLoader(test_dataset, batch_size=args.batch_size, shuffle=False)\n",
    "\n",
    "    data['train_dataloader'], data['valid_dataloader'], data['test_dataloader'] = train_dataloader, valid_dataloader, test_dataloader\n",
    "\n",
    "    return data\n"
   ]
  }
 ],
 "metadata": {
  "kernelspec": {
   "display_name": "Python 3 (ipykernel)",
   "language": "python",
   "name": "python3"
  },
  "language_info": {
   "codemirror_mode": {
    "name": "ipython",
    "version": 3
   },
   "file_extension": ".py",
   "mimetype": "text/x-python",
   "name": "python",
   "nbconvert_exporter": "python",
   "pygments_lexer": "ipython3",
   "version": "3.8.5"
  }
 },
 "nbformat": 4,
 "nbformat_minor": 4
}
